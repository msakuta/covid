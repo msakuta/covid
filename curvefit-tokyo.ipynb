{
 "cells": [
  {
   "cell_type": "markdown",
   "metadata": {},
   "source": [
    "# Tracking the Growth of COVID-19 Cases\n",
    "\n",
    "The purpose of this notebook is to infer the rate at which confirmed cases of COVID-19 are growing (or were growing) in local Tokyo area.\n",
    "\n",
    "**The notebook uses [Tokyo COVID-19 Information](https://stopcovid19.metro.tokyo.lg.jp/en)**, and then does the following things:\n",
    "\n",
    "- List cumulative number of confirmed cases\n",
    "- Attempt to fit the time series of cumulative confirmed cases to both an exponential and a logistic function\n",
    "- Use these curve fits to infer doubling times (i.e., time for the number of cumulative confirmed cases to double)\n",
    "\n",
    "For a great primer on exponential and logistic growth, watch [this video](https://www.youtube.com/watch?v=Kas0tIxDvrg).\n",
    "\n",
    "## Important Caveats:\n",
    "\n",
    "- The growth rate (and the doubling time) changes with time. As the exponential curve eventually turns into a logistic curve, the growth rate will shrink to zero (& the doubling time will consequently increase). **So it's not a good idea to extrapolate trends far into the future based on current growth rates or doubling times.**\n",
    "\n",
    "- The confirmed cases reported by each country are not the number of infections in each country, only those that have tested positive.\n",
    "\n",
    "- The doubling time calculated here measures the growth of cumulative confirmed cases, which is different from the growth of infections. For example, if a country suddenly ramps up testing, then the number of confirmed cases will rapidly rise, but infections may not be rising as the same rate.\n",
    "\n",
    "- The doubling times inferred from the curve fits are not necessarily the current or most recent doubling times: \n",
    "    - For countries where the growth is still exponential, the inferred doubling time gives us a picture of the overall rate of growth. \n",
    "    - For countries where the growth is no longer exponential, and the number of cases is stabilizing (such as China and South Korea), we use a logistic function to fit the data instead. Here, the inferred doubling time represents the growth encountered during the middle of the growth of the epidemic. \n",
    "    - Finally, we compare these values to the recent doubling time, calculated from the most recent week of data."
   ]
  },
  {
   "cell_type": "code",
   "execution_count": 1,
   "metadata": {
    "scrolled": true
   },
   "outputs": [],
   "source": [
    "import pandas as pd\n",
    "import numpy as np\n",
    "import matplotlib.pyplot as plt\n",
    "import datetime\n",
    "from dateutil import parser\n",
    "from pandas.plotting import register_matplotlib_converters\n",
    "from scipy.optimize import curve_fit"
   ]
  },
  {
   "cell_type": "code",
   "execution_count": 2,
   "metadata": {},
   "outputs": [
    {
     "data": {
      "text/plain": [
       "{'divide': 'warn', 'over': 'warn', 'under': 'ignore', 'invalid': 'warn'}"
      ]
     },
     "execution_count": 2,
     "metadata": {},
     "output_type": "execute_result"
    }
   ],
   "source": [
    "register_matplotlib_converters()\n",
    "\n",
    "np.seterr(all='ignore')"
   ]
  },
  {
   "cell_type": "code",
   "execution_count": 15,
   "metadata": {},
   "outputs": [],
   "source": [
    "df = pd.read_csv('https://stopcovid19.metro.tokyo.lg.jp/data/130001_tokyo_covid19_patients.csv')"
   ]
  },
  {
   "cell_type": "code",
   "execution_count": 16,
   "metadata": {},
   "outputs": [],
   "source": [
    "def parse_date(dates):\n",
    "    ret = []\n",
    "    for d in dates:\n",
    "        try:\n",
    "            ret.append(parser.parse(d))\n",
    "        except:\n",
    "            pass\n",
    "    return ret\n",
    "raw_dates = parse_date(df['公表_年月日'])\n",
    "dates = np.unique(raw_dates)\n",
    "count = np.zeros(dates.shape)\n",
    "for date in raw_dates:\n",
    "    count[np.where(dates == date)] += 1\n",
    "sumcount = np.cumsum(count)"
   ]
  },
  {
   "cell_type": "code",
   "execution_count": 17,
   "metadata": {},
   "outputs": [
    {
     "data": {
      "text/plain": [
       "<matplotlib.legend.Legend at 0x2705abad188>"
      ]
     },
     "execution_count": 17,
     "metadata": {},
     "output_type": "execute_result"
    },
    {
     "data": {
      "image/png": "[encoded data removed]",
      "text/plain": [
       "<Figure size 432x288 with 1 Axes>"
      ]
     },
     "metadata": {
      "needs_background": "light"
     },
     "output_type": "display_data"
    }
   ],
   "source": [
    "plt.plot(dates, count, label=\"count\")\n",
    "plt.plot(dates, sumcount, label=\"cumulative count\")\n",
    "plt.legend()"
   ]
  },
  {
   "cell_type": "code",
   "execution_count": 18,
   "metadata": {},
   "outputs": [],
   "source": [
    "def logistic(t, a, b, d):\n",
    "    return (d)/(1 + a * np.exp(- b * t))\n",
    "\n",
    "def logistic2(t, a1, b1, d1, a2, b2, d2):\n",
    "    return logistic(t, a1, b1, d1) + logistic(t, a2, b2, d2)\n",
    "\n",
    "def exponential(t, a, b):\n",
    "    return a * np.exp(b * t)\n",
    "\n",
    "def exponential_s(t, a, b, c):\n",
    "    return a * np.exp(b * (t - c))\n",
    "\n",
    "def logistic_exponential(t, a1, b1, d1, a2, b2, c2):\n",
    "    return logistic(t, a1, b1, d1) + exponential_s(t, a2, b2, c2)\n",
    "\n",
    "def extrap_plot(x, f, label, extrap, linestyle):\n",
    "    x_max = x[-1] + extrap + 1\n",
    "    log_x = np.hstack([x, np.arange(x[-1] + 1, x_max)])\n",
    "    plt.plot(log_x, f(log_x), linestyle, label=label)\n",
    "    return x_max\n",
    "\n",
    "def try_fit(f, name, x, y, doubletime, doubletimeerror, extrap=0, linestyle='r--', **args):\n",
    "    try:\n",
    "        lpopt, lpcov = curve_fit(f, x, y, maxfev=1000000, **args)\n",
    "        lerror = np.sqrt(np.diag(lpcov))\n",
    "        \n",
    "        # for logistic curve at half maximum, slope = growth rate/2. so doubling time = ln(2) / (growth rate/2)\n",
    "        ldoubletime = doubletime(lpopt)\n",
    "        # standard error\n",
    "        ldoubletimeerror = doubletimeerror(lpopt, lpcov)\n",
    "        \n",
    "        # calculate R^2\n",
    "        residuals = y - f(x, *lpopt)\n",
    "        ss_res = np.sum(residuals**2)\n",
    "        ss_tot = np.sum((y - np.mean(y))**2)\n",
    "        logisticr2 = 1 - (ss_res / ss_tot)  \n",
    "        \n",
    "        if logisticr2 > 0.95:\n",
    "            x_max = extrap_plot(x, lambda x: f(x, *lpopt), f\"{name} Curve Fit\", extrap, linestyle)\n",
    "            print(f'\\n** Based on {name} Fit**\\n')\n",
    "            print('\\tParameters: {}'.format(lpopt))\n",
    "            print('\\tR^2:', logisticr2)\n",
    "            print('\\tDoubling Time (during middle of growth): ', round(ldoubletime,2), '(±', round(ldoubletimeerror,2),') days')\n",
    "            if 0 < extrap:\n",
    "                print('\\t{} days later, {} cases expected'.format(extrap, round(f(x_max, *lpopt),2)))\n",
    "        return True, lpopt\n",
    "    \n",
    "    except Exception as e:\n",
    "        print(f\"{name} fit failed: \", e)\n",
    "        return False, []\n",
    "\n",
    "    "
   ]
  },
  {
   "cell_type": "code",
   "execution_count": 19,
   "metadata": {},
   "outputs": [],
   "source": [
    "def plot_growth(dates, count, logistic_extrap=10, exponential_extrap=10):\n",
    "    raw_x = np.array([(date - dates[0]).days for date in dates])\n",
    "    x = np.arange(raw_x[0], raw_x[-1])\n",
    "    y = np.interp(x, raw_x, count) # Linear interpolation of cases doesn't make much sense, but helps fitting\n",
    "\n",
    "    recentdbltime = float('NaN')\n",
    "    \n",
    "    if len(y) >= 7:\n",
    "        \n",
    "        current = y[-1]\n",
    "        lastweek = y[-8]\n",
    "        \n",
    "        if current > lastweek:\n",
    "            print('\\n** Based on Most Recent Week of Data **\\n')\n",
    "            print('\\tConfirmed cases on',dates[-1],'\\t',current)\n",
    "            print('\\tConfirmed cases on',dates[-8],'\\t',lastweek)\n",
    "            ratio = current/lastweek\n",
    "            print('\\tRatio:',round(ratio,2))\n",
    "            print('\\tWeekly increase:',round( 100 * (ratio - 1), 1),'%')\n",
    "            dailypercentchange = round( 100 * (pow(ratio, 1/7) - 1), 1)\n",
    "            print('\\tDaily increase:', dailypercentchange, '% per day')\n",
    "            recentdbltime = round( 7 * np.log(2) / np.log(ratio), 1)\n",
    "            print('\\tDoubling Time (represents recent growth):',recentdbltime,'days')\n",
    "\n",
    "    plt.figure(figsize=(10,5))\n",
    "    plt.plot(x, y, 'ko', label=\"Original Data\")\n",
    "\n",
    "    logisticworked = False\n",
    "\n",
    "    def logistic_doubletime(lpopt): return np.log(2)/(lpopt[1]/2)\n",
    "    def logistic_doubletimeerror(lpopt, lpcov):\n",
    "        ldoubletime = logistic_doubletime(lpopt)\n",
    "        lerror = np.sqrt(np.diag(lpcov))\n",
    "        return 1.96 * ldoubletime * np.abs(lerror[1]/lpopt[1])\n",
    "#     logisticworked = try_fit(logistic, \"Logistic\", x, y, doubletime=logistic_doubletime,\n",
    "#                             doubletimeerror=logistic_doubletimeerror, extrap=logistic_extrap, linestyle='b--')\n",
    "\n",
    "    def exponential_doubletime(epopt): return np.log(2)/epopt[1]\n",
    "    def exponential_doubletimeerror(epopt, epcov):\n",
    "        eerror = np.sqrt(np.diag(epcov))\n",
    "        return 1.96 * exponential_doubletime(epopt) * np.abs(eerror[1]/epopt[1])\n",
    "    logisticworked, lpopt = try_fit(logistic_exponential, \"Logistic+exponential\", x, y,\n",
    "                             lambda popt: exponential_doubletime(popt[3:]),\n",
    "                             lambda popt, pcov: exponential_doubletimeerror(popt[3:], pcov[3:]),\n",
    "                             linestyle='g--',\n",
    "                             extrap=logistic_extrap,\n",
    "                             p0=[4.86933372e+03, 9.91123695e-02, 5.72687749e+03,\n",
    "                                  5e+0, 1e-1, 130])\n",
    "    extrap_plot(x, lambda x: logistic(x, *lpopt[:3]), label=\"Logistic part of the fitting\", extrap=logistic_extrap, linestyle='--')\n",
    "\n",
    "    exponentialworked, epopt = try_fit(exponential, \"Exponential\", x, y, doubletime=exponential_doubletime,\n",
    "                                doubletimeerror=exponential_doubletimeerror, bounds=([0,0],[100,0.9]))\n",
    "    \n",
    "    plt.title(' Cumulative COVID-19 Cases.', fontsize=\"x-large\")\n",
    "    plt.xlabel('Days', fontsize=\"x-large\")\n",
    "    plt.ylabel('Total Cases', fontsize=\"x-large\")\n",
    "    plt.legend(fontsize=\"x-large\")\n",
    "    plt.show()"
   ]
  },
  {
   "cell_type": "code",
   "execution_count": 20,
   "metadata": {},
   "outputs": [
    {
     "name": "stdout",
     "output_type": "stream",
     "text": [
      "\n",
      "** Based on Most Recent Week of Data **\n",
      "\n",
      "\tConfirmed cases on 2020-08-20 00:00:00 \t 18268.0\n",
      "\tConfirmed cases on 2020-08-13 00:00:00 \t 16474.0\n",
      "\tRatio: 1.11\n",
      "\tWeekly increase: 10.9 %\n",
      "\tDaily increase: 1.5 % per day\n",
      "\tDoubling Time (represents recent growth): 46.9 days\n",
      "\n",
      "** Based on Logistic+exponential Fit**\n",
      "\n",
      "\tParameters: [6.76697696e+05 1.66872898e-01 4.28115136e+03 3.59353697e+01\n",
      " 3.61469535e-02 4.01392579e+01]\n",
      "\tR^2: 0.9956402158020944\n",
      "\tDoubling Time (during middle of growth):  19.18 (± nan ) days\n",
      "\t20 days later, 37420.03 cases expected\n"
     ]
    },
    {
     "data": {
      "image/png": "[encoded data removed]",
      "text/plain": [
       "<Figure size 720x360 with 1 Axes>"
      ]
     },
     "metadata": {
      "needs_background": "light"
     },
     "output_type": "display_data"
    }
   ],
   "source": [
    "plot_growth(dates, sumcount, 20, 0)"
   ]
  },
  {
   "cell_type": "markdown",
   "metadata": {},
   "source": [
    "Clearly, exponential or logistic functions alone don't fit the model anymore, since the second resurgence came.\n",
    "Combining logistic fit and exponential shows a good fit."
   ]
  }
 ],
 "metadata": {
  "kernelspec": {
   "display_name": "Python 3",
   "language": "python",
   "name": "python3"
  },
  "language_info": {
   "codemirror_mode": {
    "name": "ipython",
    "version": 3
   },
   "file_extension": ".py",
   "mimetype": "text/x-python",
   "name": "python",
   "nbconvert_exporter": "python",
   "pygments_lexer": "ipython3",
   "version": "3.7.4"
  }
 },
 "nbformat": 4,
 "nbformat_minor": 2
}
