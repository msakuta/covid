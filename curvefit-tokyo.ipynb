{
 "cells": [
  {
   "cell_type": "markdown",
   "metadata": {},
   "source": [
    "# Tracking the Growth of COVID-19 Cases\n",
    "\n",
    "The purpose of this notebook is to infer the rate at which confirmed cases of COVID-19 are growing (or were growing) in local Tokyo area.\n",
    "\n",
    "**The notebook uses [Tokyo COVID-19 Information](https://stopcovid19.metro.tokyo.lg.jp/en)**, and then does the following things:\n",
    "\n",
    "- List cumulative number of confirmed cases\n",
    "- Attempt to fit the time series of cumulative confirmed cases to both an exponential and a logistic function\n",
    "- Use these curve fits to infer doubling times (i.e., time for the number of cumulative confirmed cases to double)\n",
    "\n",
    "For a great primer on exponential and logistic growth, watch [this video](https://www.youtube.com/watch?v=Kas0tIxDvrg).\n",
    "\n",
    "## Important Caveats:\n",
    "\n",
    "- The growth rate (and the doubling time) changes with time. As the exponential curve eventually turns into a logistic curve, the growth rate will shrink to zero (& the doubling time will consequently increase). **So it's not a good idea to extrapolate trends far into the future based on current growth rates or doubling times.**\n",
    "\n",
    "- The confirmed cases reported by each country are not the number of infections in each country, only those that have tested positive.\n",
    "\n",
    "- The doubling time calculated here measures the growth of cumulative confirmed cases, which is different from the growth of infections. For example, if a country suddenly ramps up testing, then the number of confirmed cases will rapidly rise, but infections may not be rising as the same rate.\n",
    "\n",
    "- The doubling times inferred from the curve fits are not necessarily the current or most recent doubling times: \n",
    "    - For countries where the growth is still exponential, the inferred doubling time gives us a picture of the overall rate of growth. \n",
    "    - For countries where the growth is no longer exponential, and the number of cases is stabilizing (such as China and South Korea), we use a logistic function to fit the data instead. Here, the inferred doubling time represents the growth encountered during the middle of the growth of the epidemic. \n",
    "    - Finally, we compare these values to the recent doubling time, calculated from the most recent week of data."
   ]
  },
  {
   "cell_type": "code",
   "execution_count": 1,
   "metadata": {
    "scrolled": true
   },
   "outputs": [],
   "source": [
    "import pandas as pd\n",
    "import numpy as np\n",
    "import matplotlib.pyplot as plt\n",
    "import datetime\n",
    "from dateutil import parser\n",
    "from pandas.plotting import register_matplotlib_converters\n",
    "from scipy.optimize import curve_fit"
   ]
  },
  {
   "cell_type": "code",
   "execution_count": 2,
   "metadata": {},
   "outputs": [
    {
     "data": {
      "text/plain": [
       "{'divide': 'warn', 'over': 'warn', 'under': 'ignore', 'invalid': 'warn'}"
      ]
     },
     "execution_count": 2,
     "metadata": {},
     "output_type": "execute_result"
    }
   ],
   "source": [
    "register_matplotlib_converters()\n",
    "\n",
    "np.seterr(all='ignore')"
   ]
  },
  {
   "cell_type": "code",
   "execution_count": 173,
   "metadata": {},
   "outputs": [],
   "source": [
    "df = pd.read_csv('https://stopcovid19.metro.tokyo.lg.jp/data/130001_tokyo_covid19_patients.csv')"
   ]
  },
  {
   "cell_type": "code",
   "execution_count": 174,
   "metadata": {},
   "outputs": [],
   "source": [
    "def parse_date(dates):\n",
    "    ret = []\n",
    "    for d in dates:\n",
    "        try:\n",
    "            ret.append(parser.parse(d))\n",
    "        except:\n",
    "            pass\n",
    "    return ret\n",
    "raw_dates = parse_date(df['公表_年月日'])\n",
    "dates = np.unique(raw_dates)\n",
    "count = np.zeros(dates.shape)\n",
    "for date in raw_dates:\n",
    "    count[np.where(dates == date)] += 1\n",
    "sumcount = np.cumsum(count)"
   ]
  },
  {
   "cell_type": "code",
   "execution_count": 175,
   "metadata": {},
   "outputs": [
    {
     "data": {
      "text/plain": [
       "<matplotlib.legend.Legend at 0x1bd0d2bab88>"
      ]
     },
     "execution_count": 175,
     "metadata": {},
     "output_type": "execute_result"
    },
    {
     "data": {
      "image/png": "[encoded data removed]",
      "text/plain": [
       "<Figure size 432x288 with 1 Axes>"
      ]
     },
     "metadata": {
      "needs_background": "light"
     },
     "output_type": "display_data"
    }
   ],
   "source": [
    "plt.plot(dates, count, label=\"count\")\n",
    "plt.plot(dates, sumcount, label=\"cumulative count\")\n",
    "plt.legend()"
   ]
  },
  {
   "cell_type": "code",
   "execution_count": 167,
   "metadata": {},
   "outputs": [],
   "source": [
    "def logistic(t, a, b, d):\n",
    "    return (d)/(1 + a * np.exp(- b * t))\n",
    "\n",
    "def exponential(t, a, b):\n",
    "    return a * np.exp(b * t)\n",
    "\n",
    "def plot_growth(dates, count, logistic_extrap=10, exponential_extrap=10):\n",
    "    raw_x = np.array([(date - dates[0]).days for date in dates])\n",
    "    x = np.arange(raw_x[0], raw_x[-1])\n",
    "    y = np.interp(x, raw_x, count) # Linear interpolation of cases doesn't make much sense, but helps fitting\n",
    "\n",
    "    recentdbltime = float('NaN')\n",
    "    \n",
    "    if len(y) >= 7:\n",
    "        \n",
    "        current = y[-1]\n",
    "        lastweek = y[-8]\n",
    "        \n",
    "        if current > lastweek:\n",
    "            print('\\n** Based on Most Recent Week of Data **\\n')\n",
    "            print('\\tConfirmed cases on',dates[-1],'\\t',current)\n",
    "            print('\\tConfirmed cases on',dates[-8],'\\t',lastweek)\n",
    "            ratio = current/lastweek\n",
    "            print('\\tRatio:',round(ratio,2))\n",
    "            print('\\tWeekly increase:',round( 100 * (ratio - 1), 1),'%')\n",
    "            dailypercentchange = round( 100 * (pow(ratio, 1/7) - 1), 1)\n",
    "            print('\\tDaily increase:', dailypercentchange, '% per day')\n",
    "            recentdbltime = round( 7 * np.log(2) / np.log(ratio), 1)\n",
    "            print('\\tDoubling Time (represents recent growth):',recentdbltime,'days')\n",
    "\n",
    "    plt.figure(figsize=(10,5))\n",
    "    plt.plot(x, y, 'ko', label=\"Original Data\")\n",
    "\n",
    "    logisticworked = False\n",
    "    exponentialworked = False\n",
    "\n",
    "    try:\n",
    "        lpopt, lpcov = curve_fit(logistic, x, y, maxfev=1000000)\n",
    "        lerror = np.sqrt(np.diag(lpcov))\n",
    "        \n",
    "        # for logistic curve at half maximum, slope = growth rate/2. so doubling time = ln(2) / (growth rate/2)\n",
    "        ldoubletime = np.log(2)/(lpopt[1]/2)\n",
    "        # standard error\n",
    "        ldoubletimeerror = 1.96 * ldoubletime * np.abs(lerror[1]/lpopt[1])\n",
    "        \n",
    "        # calculate R^2\n",
    "        residuals = y - logistic(x, *lpopt)\n",
    "        ss_res = np.sum(residuals**2)\n",
    "        ss_tot = np.sum((y - np.mean(y))**2)\n",
    "        logisticr2 = 1 - (ss_res / ss_tot)  \n",
    "        \n",
    "        if logisticr2 > 0.95:\n",
    "            x_max = x[-1] + logistic_extrap + 1\n",
    "            log_x = np.hstack([x, np.arange(x[-1] + 1, x_max)])\n",
    "            plt.plot(log_x, logistic(log_x, *lpopt), 'b--', label=\"Logistic Curve Fit\")\n",
    "            print('\\n** Based on Logistic Fit**\\n')\n",
    "            print('\\tR^2:', logisticr2)\n",
    "            print('\\tDoubling Time (during middle of growth): ', round(ldoubletime,2), '(±', round(ldoubletimeerror,2),') days')\n",
    "            if 0 < logistic_extrap:\n",
    "                print('\\t{} days later, {} cases expected'.format(logistic_extrap, round(logistic(x_max, *lpopt),2)))\n",
    "            logisticworked = True\n",
    "    \n",
    "    except Exception as e:\n",
    "        print(\"logistic fit failed: \", e)\n",
    "        pass\n",
    "\n",
    "    try:\n",
    "        epopt, epcov = curve_fit(exponential, x, y, bounds=([0,0],[100,0.9]), maxfev=10000)\n",
    "        eerror = np.sqrt(np.diag(epcov))\n",
    "        \n",
    "        # for exponential curve, slope = growth rate. so doubling time = ln(2) / growth rate\n",
    "        edoubletime = np.log(2)/epopt[1]\n",
    "        # standard error\n",
    "        edoubletimeerror = 1.96 * edoubletime * np.abs(eerror[1]/epopt[1])\n",
    "        \n",
    "        # calculate R^2\n",
    "        residuals = y - exponential(x, *epopt)\n",
    "        ss_res = np.sum(residuals**2)\n",
    "        ss_tot = np.sum((y - np.mean(y))**2)\n",
    "        expr2 = 1 - (ss_res / ss_tot)\n",
    "        \n",
    "        if expr2 > 0.95:\n",
    "            x_max = x[-1] + exponential_extrap + 1\n",
    "            ext_x = np.hstack([x, np.arange(x[-1] + 1, x_max)])\n",
    "            plt.plot(ext_x, exponential(ext_x, *epopt), 'r--', label=\"Exponential Curve Fit\")\n",
    "            print('\\n** Based on Exponential Fit **\\n')\n",
    "            print('\\tR^2:', expr2)\n",
    "            print('\\tDoubling Time (represents overall growth): ', round(edoubletime,2), '(±', round(edoubletimeerror,2),') days')\n",
    "            if 0 < exponential_extrap:\n",
    "                print('\\t{} days later, {} cases expected'.format(exponential_extrap, round(exponential(x_max, *epopt),2)))\n",
    "            exponentialworked = True\n",
    "            \n",
    "    except Exception as e:\n",
    "        print(\"exponential fit failed: \", e)\n",
    "        pass\n",
    "    \n",
    "    plt.title(' Cumulative COVID-19 Cases.', fontsize=\"x-large\")\n",
    "    plt.xlabel('Days', fontsize=\"x-large\")\n",
    "    plt.ylabel('Total Cases', fontsize=\"x-large\")\n",
    "    plt.legend(fontsize=\"x-large\")\n",
    "    plt.show()\n"
   ]
  },
  {
   "cell_type": "code",
   "execution_count": 176,
   "metadata": {},
   "outputs": [
    {
     "name": "stdout",
     "output_type": "stream",
     "text": [
      "\n",
      "** Based on Most Recent Week of Data **\n",
      "\n",
      "\tConfirmed cases on 2020-04-24 00:00:00 \t 3572.0\n",
      "\tConfirmed cases on 2020-04-17 00:00:00 \t 2592.0\n",
      "\tRatio: 1.38\n",
      "\tWeekly increase: 37.8 %\n",
      "\tDaily increase: 4.7 % per day\n",
      "\tDoubling Time (represents recent growth): 15.1 days\n",
      "\n",
      "** Based on Logistic Fit**\n",
      "\n",
      "\tR^2: 0.9992655212077284\n",
      "\tDoubling Time (during middle of growth):  9.29 (± 0.24 ) days\n",
      "\t20 days later, 4319.12 cases expected\n",
      "\n",
      "** Based on Exponential Fit **\n",
      "\n",
      "\tR^2: 0.980677579651889\n",
      "\tDoubling Time (represents overall growth):  8.94 (± 0.45 ) days\n"
     ]
    },
    {
     "data": {
      "image/png": "[encoded data removed]",
      "text/plain": [
       "<Figure size 720x360 with 1 Axes>"
      ]
     },
     "metadata": {
      "needs_background": "light"
     },
     "output_type": "display_data"
    }
   ],
   "source": [
    "plot_growth(dates, sumcount, 20, 0)"
   ]
  }
 ],
 "metadata": {
  "kernelspec": {
   "display_name": "Python 3",
   "language": "python",
   "name": "python3"
  },
  "language_info": {
   "codemirror_mode": {
    "name": "ipython",
    "version": 3
   },
   "file_extension": ".py",
   "mimetype": "text/x-python",
   "name": "python",
   "nbconvert_exporter": "python",
   "pygments_lexer": "ipython3",
   "version": "3.7.4"
  }
 },
 "nbformat": 4,
 "nbformat_minor": 2
}
